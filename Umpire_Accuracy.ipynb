{
 "cells": [
  {
   "cell_type": "code",
   "execution_count": null,
   "metadata": {},
   "outputs": [],
   "source": [
    "import pandas as pd\n",
    "\n",
    "# Load the data\n",
    "data = pd.read_csv('mlb_data.csv')\n",
    "\n",
    "# Drop rows with missing values in 'plate_x' or 'plate_z'\n",
    "data = data.dropna(subset=['plate_x', 'plate_z'])\n",
    "\n",
    "# Define the strike zone\n",
    "def is_in_strike_zone(row):\n",
    "    if (-0.83 <= row['plate_x'] <= 0.83) and (1.5 <= row['plate_z'] <= 3.6):\n",
    "        return True\n",
    "    else:\n",
    "        return False\n",
    "\n",
    "# Apply the function to the data\n",
    "data['InStrikeZone'] = data.apply(is_in_strike_zone, axis=1)\n",
    "\n",
    "# Filter data to only include called balls or strikes\n",
    "called_pitches = data[data['description'].isin(['ball', 'called_strike'])]\n",
    "\n",
    "# Calculate the total accuracy, called ball accuracy, and called strike accuracy\n",
    "total_called_pitches = len(called_pitches)\n",
    "\n",
    "# Correct calls\n",
    "correct_balls = len(called_pitches[(~called_pitches['InStrikeZone']) & (called_pitches['description'] == 'ball')])\n",
    "correct_strikes = len(called_pitches[(called_pitches['InStrikeZone']) & (called_pitches['description'] == 'called_strike')])\n",
    "total_correct_calls = correct_balls + correct_strikes\n",
    "\n",
    "# Accuracy calculations\n",
    "total_accuracy = total_correct_calls / total_called_pitches\n",
    "\n",
    "# Total balls and strikes\n",
    "total_balls_called = len(called_pitches[called_pitches['description'] == 'ball'])\n",
    "total_strikes_called = len(called_pitches[called_pitches['description'] == 'called_strike'])\n",
    "\n",
    "# Accuracy of called balls and strikes\n",
    "ball_accuracy = correct_balls / total_balls_called\n",
    "strike_accuracy = correct_strikes / total_strikes_called\n",
    "\n",
    "print(f'Total Accuracy: {total_accuracy*100:.2f}%')\n",
    "print(f'Called Ball Accuracy: {ball_accuracy*100:.2f}%')\n",
    "print(f'Called Strike Accuracy: {strike_accuracy*100:.2f}%')"
   ]
  }
 ],
 "metadata": {
  "language_info": {
   "name": "python"
  },
  "orig_nbformat": 4
 },
 "nbformat": 4,
 "nbformat_minor": 2
}
