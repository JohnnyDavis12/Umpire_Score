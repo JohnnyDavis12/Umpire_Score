{
 "cells": [
  {
   "cell_type": "code",
   "execution_count": null,
   "metadata": {},
   "outputs": [],
   "source": [
    "import pandas as pd\n",
    "\n",
    "# Load the data\n",
    "#ENTER YOUR TRACKMAN DATA FILENAME HERE\n",
    "data = pd.read_csv('trackman_data.csv')\n",
    "\n",
    "# Define the strike zone\n",
    "def is_in_strike_zone(row):\n",
    "    if (-0.83 <= row['PlateLocSide'] <= 0.83) and (1.5 <= row['PlateLocHeight'] <= 3.6):\n",
    "        return True\n",
    "    else:\n",
    "        return False\n",
    "\n",
    "# Apply the function to the data\n",
    "data['InStrikeZone'] = data.apply(is_in_strike_zone, axis=1)\n",
    "\n",
    "# Filter data to only include called balls or strikes\n",
    "called_pitches = data[data['PitchCall'].isin(['BallCalled', 'StrikeCalled'])]\n",
    "\n",
    "# Calculate the total accuracy\n",
    "total_pitches_in_zone = len(data[data['InStrikeZone']])\n",
    "total_pitches_outside_zone = len(data[~data['InStrikeZone']])\n",
    "\n",
    "correct_strikes = len(called_pitches[(called_pitches['InStrikeZone']) & (called_pitches['PitchCall'] == 'StrikeCalled')])\n",
    "correct_balls = len(called_pitches[(~called_pitches['InStrikeZone']) & (called_pitches['PitchCall'] == 'BallCalled')])\n",
    "\n",
    "total_correct_calls = correct_balls + correct_strikes\n",
    "total_accuracy = total_correct_calls / (total_pitches_in_zone + total_pitches_outside_zone)\n",
    "\n",
    "# Calculate the accuracy of correctly called strikes and balls\n",
    "strike_accuracy = correct_strikes / total_pitches_in_zone\n",
    "ball_accuracy = correct_balls / total_pitches_outside_zone\n",
    "\n",
    "print(f'Total Accuracy: {total_accuracy*100:.2f}%')\n",
    "print(f'Called Ball Accuracy: {ball_accuracy*100:.2f}%')\n",
    "print(f'Called Strike Accuracy: {strike_accuracy*100:.2f}%')"
   ]
  }
 ],
 "metadata": {
  "kernelspec": {
   "display_name": "Python 3.11.1 64-bit",
   "language": "python",
   "name": "python3"
  },
  "language_info": {
   "name": "python",
   "version": "3.11.1"
  },
  "orig_nbformat": 4,
  "vscode": {
   "interpreter": {
    "hash": "aee8b7b246df8f9039afb4144a1f6fd8d2ca17a180786b69acc140d282b71a49"
   }
  }
 },
 "nbformat": 4,
 "nbformat_minor": 2
}
